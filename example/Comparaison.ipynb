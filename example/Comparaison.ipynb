{
 "cells": [
  {
   "cell_type": "code",
   "execution_count": null,
   "metadata": {},
   "outputs": [],
   "source": [
    "import networkx as nx\n",
    "import random as rnd\n",
    "from time import time\n",
    "import sys\n",
    "sys.path.append(\"../source_code\")\n",
    "from MST import *"
   ]
  },
  {
   "cell_type": "code",
   "execution_count": null,
   "metadata": {},
   "outputs": [],
   "source": [
    "def rnd_graph(e: int, v: int) -> nx.MultiGraph:\n",
    "    \"\"\"\n",
    "    Returns a random multigraph with v vertices and e edges.\n",
    "    \"\"\"\n",
    "    g = nx.MultiGraph()\n",
    "    g.add_nodes_from(range(v))\n",
    "    for i in range(e):\n",
    "        g.add_edge(rnd.randrange(v), rnd.randrange(v), weight=rnd.random())\n",
    "    return g"
   ]
  },
  {
   "cell_type": "code",
   "execution_count": null,
   "metadata": {},
   "outputs": [],
   "source": [
    "n = 10  # Nombre de graphes sur lequel on test l'algorithme\n",
    "i_max, j_max = 14, 5\n",
    "k_time, b_time = dict(), dict()\n",
    "for i in range(i_max):\n",
    "    e = 100 + i * 300\n",
    "    \n",
    "    for j in range(j_max):\n",
    "        v = int(10 ** (1 + j/2))\n",
    "        \n",
    "        l = [rnd_graph(e, v) for k in range(n)]\n",
    "        \n",
    "        t = time()\n",
    "        for g in l:\n",
    "            kruskal_mg(g) \n",
    "        k_time[i, j] = (time() - t) / n\n",
    "        \n",
    "        t = time()\n",
    "        for g in l:\n",
    "            boruvka_mg(g)\n",
    "        b_time[i, j] = (time() - t) / n"
   ]
  },
  {
   "cell_type": "code",
   "execution_count": null,
   "metadata": {},
   "outputs": [],
   "source": [
    "with open(\"k_time.txt\", 'w') as output:\n",
    "    for i in range(i_max):\n",
    "        for j in range(j_max):\n",
    "            output.write(str(k_time[i, j]))\n",
    "            output.write('\\t')\n",
    "        output.write('\\n')"
   ]
  },
  {
   "cell_type": "code",
   "execution_count": null,
   "metadata": {},
   "outputs": [],
   "source": [
    "with open(\"b_time.txt\", 'w') as output:\n",
    "    for i in range(i_max):\n",
    "        for j in range(j_max):\n",
    "            output.write(str(b_time[i, j]))\n",
    "            output.write('\\t')\n",
    "        output.write('\\n')"
   ]
  }
 ],
 "metadata": {
  "kernelspec": {
   "display_name": "Python 3",
   "language": "python",
   "name": "python3"
  },
  "language_info": {
   "codemirror_mode": {
    "name": "ipython",
    "version": 3
   },
   "file_extension": ".py",
   "mimetype": "text/x-python",
   "name": "python",
   "nbconvert_exporter": "python",
   "pygments_lexer": "ipython3",
   "version": "3.8.5"
  }
 },
 "nbformat": 4,
 "nbformat_minor": 2
}
